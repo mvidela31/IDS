{
  "nbformat": 4,
  "nbformat_minor": 0,
  "metadata": {
    "colab": {
      "name": "Tarea_Capsula_3",
      "provenance": [],
      "collapsed_sections": [],
      "authorship_tag": "ABX9TyPcPBWgjC6AmgmScz79202l",
      "include_colab_link": true
    },
    "kernelspec": {
      "name": "python3",
      "display_name": "Python 3"
    },
    "accelerator": "GPU"
  },
  "cells": [
    {
      "cell_type": "markdown",
      "metadata": {
        "id": "view-in-github",
        "colab_type": "text"
      },
      "source": [
        "<a href=\"https://colab.research.google.com/github/mvidela31/IDS/blob/master/Tarea_Capsula_3.ipynb\" target=\"_parent\"><img src=\"https://colab.research.google.com/assets/colab-badge.svg\" alt=\"Open In Colab\"/></a>"
      ]
    },
    {
      "cell_type": "markdown",
      "metadata": {
        "id": "-kcgvVKSmL5t"
      },
      "source": [
        "# Tarea Cápsula #3: Generative Adversarial Networks\n",
        "#### EL7014 Teoría de la Información: Fundamentos y Aplicaciones <br> Information and Decision Systems Group"
      ]
    },
    {
      "cell_type": "markdown",
      "metadata": {
        "id": "uax9LRFemSwH"
      },
      "source": [
        "**Nombre**: *Ingrese Nombre*\n",
        "<br>\n",
        "**Fecha de Entrega**: 10 de Julio de 2020"
      ]
    },
    {
      "cell_type": "markdown",
      "metadata": {
        "id": "pIp05VDJlkAN"
      },
      "source": [
        "## P1) Derivación de cota inferior de información mutua en modelo InfoGAN"
      ]
    },
    {
      "cell_type": "markdown",
      "metadata": {
        "id": "2OCzME0Flq5p"
      },
      "source": [
        "1.   Sean $z\\sim P(z)$, $c\\sim P(c)$ y $x=G(z,c)$ variables aleatorias tales que $z {\\perp \\!\\!\\! \\perp}c$. Demuestre la siguiente identidad:\n",
        "\n",
        "\\begin{equation}\n",
        "  I(c;G(z,c))=-\\mathbb{E}_{c\\sim P(c)}[\\log{P(c)}]+\\mathbb{E}_{z\\sim P(z)}[\\mathbb{E}_{c\\sim P(c)}[\\mathbb{E}_{x\\sim P(x|z,c)}[\\mathbb{E}_{c'\\sim P(c|x)}[\\log{P(c'|x)}]]]]\n",
        "\\tag{1}\n",
        "\\end{equation}\n",
        "\n",
        "&emsp;&emsp;Asocie las distribuciones de probabilidad de la expresión obtenida a los distintos elementos del problema. ¿Qué dificultad práctica presenta la expresión obtenida?\n",
        "<br><br>\n",
        "\n",
        "2.   Sea $Q(c'|x)$ una función arbitraria, con $c'\\sim P(c|x)$. Demuestre la siguiente desigualdad:\n",
        "\n",
        "\\begin{equation}\n",
        "I(c;G(z,c))\\geq H(c)+\\mathbb{E}_{z\\sim P(z)}[\\mathbb{E}_{c\\sim P(c)}[\\mathbb{E}_{x\\sim P(x|z,c)}[\\mathbb{E}_{c'\\sim P(c|x)}[\\log Q(c'|x)]]]]\n",
        "\\tag{2}\n",
        "\\end{equation}\n",
        "\n",
        "&emsp;&emsp;Identifique la ventaja de la expresión obtenida en comparación al término $I(c;G(z,c))$. ¿Es posible calcular dicha expresión directamente? \n",
        "\n",
        "&emsp;&emsp;**<u>Indicación</u>:** Considere que: $P(c'|x)=\\frac{P(c'|x)Q(c'|x)}{Q(c'|x)}$.\n",
        "<br><br>\n",
        "\n",
        "3.  Sean $u\\sim P(u)$ y $v\\sim P(v|u)$ variables aleatorias y $f(u,v)$ una función con esperanza finita. Demuestre la siguiente identidad:\n",
        "\n",
        "\\begin{equation}\n",
        "\\mathbb{E}_{u\\sim P(u)}[\\mathbb{E}_{v\\sim P(v|u)}[f(u,v)]]=\\mathbb{E}_{u\\sim P(u)}[\\mathbb{E}_{v\\sim P(v|u)}[\\mathbb{E}_{u'\\sim P(u|v)}[f(u',v)]]]\n",
        "\\tag{3}\n",
        "\\end{equation}\n",
        "\n",
        "&emsp;&emsp;**<u>Indicación</u>:** Puede serle útil demostrar primero que: $\\mathbb{E}_{u\\sim P(u)}[\\mathbb{E}_{v\\sim P(v|u)}[g(v)]]=\\mathbb{E}_{v\\sim P(v)}[g(v)]$.\n",
        "<br><br>\n",
        "\n",
        "4.   Extienda el resultado anterior para demostrar que:\n",
        "\n",
        "\\begin{equation}\n",
        "I(c;G(z,c))\\geq\\mathbb{E}_{z\\sim P(z)}[\\mathbb{E}_{c\\sim P(c)}[\\mathbb{E}_{x\\sim P(x|z,c)}[\\log{Q(c|x)}]]]:=L_I(G,Q)\n",
        "\\tag{4}\n",
        "\\end{equation}\n",
        "\n",
        "&emsp;&emsp;¿Qué ventaja presenta la expresión $L_I(G,Q)$ en comparación a la mostrada en $(2)$?\n",
        "\n",
        "&emsp;&emsp;**<u>Indicación</u>:** Observe que $z {\\perp \\!\\!\\! \\perp}c \\iff P(c|x)=P(c|x,z)$.\n",
        "<br><br>\n",
        "\n",
        "5.   De manera análoga al modelo GAN, $Q$ se parametriza mediante un conjunto de parámetros $\\theta_Q$ los cuales son actualizados mediante algún método basado en gradiente. ¿Qué problemas presenta el cómputo del término $\\nabla_{\\theta_Q}L_I(G,Q)$? Obtenga una aproximación computable y diferenciable (con respecto a $\\theta_G$ y $\\theta_Q$) de $L_I(G,Q)$ dadas $n$ muestras de las distribuciones presentes en dicho término.\n",
        "\n",
        "&emsp;&emsp;**<u>Indicación</u>:** Investigue sobre el *reparametrization trick* y *métodos de integración de Montecarlo*."
      ]
    },
    {
      "cell_type": "markdown",
      "metadata": {
        "id": "D0-ZDWMIY5gb"
      },
      "source": [
        "*  **<u>OBSERVACIÓN</u>:** Cada paso de las demostraciones debe estar debidamente justificado. Se recomienda trabajar con las expresiones integrales de las esperanzas."
      ]
    },
    {
      "cell_type": "markdown",
      "metadata": {
        "id": "e5dC-bP4l6bW"
      },
      "source": [
        "## P2) Experimentos"
      ]
    },
    {
      "cell_type": "markdown",
      "metadata": {
        "id": "egxU6wFSl2E2"
      },
      "source": [
        "1.   Implemente y entrene un modelo *GAN* con $100000$ muestras del **conjunto de datos espiral** durante $500$ épocas. Genere $1000$ muestras fijas de ruido $z\\sim P(z)$ y grafique las muestras generadas mediante dicho ruido sobre el conjunto de datos de entrenamiento para cada época guardando cada gráfico en una imagen $\\texttt{.png}$, genere con ellas un archivo $\\texttt{.gif}$ para visualizar el desempeño del entrenamiento del modelo durante las épocas de entrenamiento y presente además las curvas de aprendizaje por época (loss). Repita el experimento sobre el **conjunto de datos de 25-Gaussianas**. Comente sobre el desempeño de los modelos generativos entrenados.\n",
        "\n",
        "2.   Implemente y entrene un modelo *InfoGAN* con $100000$ muestras del **conjunto de datos de 25-Gaussianas** durante $100$ épocas. Genere $1000$ muestras fijas de ruido $z\\sim P(z)$ y código discreto $c\\sim P(c)$, y grafique las muestras generadas mediante dicho ruido sobre el conjunto de datos de entrenamiento para cada época guardando cada gráfico en una imagen $\\texttt{.png}$, genere con ellas un archivo $\\texttt{.gif}$ para visualizar el desempeño del entrenamiento del modelo durante las épocas de entrenamiento y presente además las curvas de aprendizaje por época (loss). Explore con códigos de dimensión $3$ y $25$. Comente sobre el desempeño del modelo generativo entrenado y compare con los resultados obtenidos en el caso anterior.\n",
        "\n",
        "3.   Implemente un modelo *InfoGAN* modificado incorporando adecuadamente el estimador neuronal de información mutua *MINE* estudiado en la **cápsula 1**. Entrénelo con $100000$ muestras del **conjunto de datos de 25-Gaussianas** durante $100$ épocas. Genere $1000$ muestras fijas de ruido $z\\sim P(z)$ y código discreto $c\\sim P(c)$, y grafique las muestras generadas mediante dicho ruido sobre el conjunto de datos de entrenamiento para cada época guardando cada gráfico en una imagen $\\texttt{.png}$, genere con ellas dos archivos $\\texttt{.gif}$ para visualizar el desempeño del entrenamiento del modelo durante las épocas de entrenamiento y presente además las curvas de aprendizaje por época (loss). Utilice un código de dimensión $25$. Comente sobre el desempeño del modelo generativo entrenado y compare con los resultados obtenidos en los casos anteriores.\n",
        "\n",
        "&emsp;**<u>Indicación</u>:** Para la realización de cada experimento se sugiere utilizar: \n",
        "  *   Optimizador $\\texttt{Adam}$ con $\\eta=1e-4$ (*learning rate*), $\\beta_1=0.5$ y $\\beta_2=0.99$.\n",
        "  *   Tamaño de mini-batch de $100$.\n",
        "  *   Red discriminadora con $3$ capas intermedias de $400$ unidades c/u, con capa de salida salida $\\texttt{softmax}$.\n",
        "  *   Red generadora con $2$ capas intermedias de $500$ unidades c/u, con capa de salida salida lineal.\n",
        "  *   Red $Q$ (*InfoGAN*) con $3$ capas intermedias de $400$ unidades c/u, compartiendo parámetros con la red discriminadorea en las $2$ primeras.\n",
        "  *   Red estadística (*MINE*) con $2$ capas intermedias de $500$ unidades c/u, con capa de salida salida lineal.\n",
        "  *   Funciones de activación $\\texttt{LeakyReLU}$ con $\\texttt{negative_slope}=0.1$.\n",
        "  *   Factor ponderador de información mutua $\\lambda_{categorico}=1$ para modelo *InfoGAN*.\n",
        "  *   Factor ponderador de información mutua $\\lambda=1$ para modelo *InfoGAN+MINE*.\n",
        "  *   Vector de ruido $z\\sim Unif[-1,1]$ de dimensión $20$.\n",
        "  *   Evite utilizar $\\texttt{batch-normalization}$ e inicialización extraordinaria de los parámetros del modelo."
      ]
    },
    {
      "cell_type": "markdown",
      "metadata": {
        "id": "ioKs78j-utb9"
      },
      "source": [
        "*  **<u>OBSERVACIÓN</u>:** El entrenamiento de los modelos solicitados puede demorar un tiempo considerable. Evite dejar el desarrollo de los experimentos para último momento. El *notebook* entregado debe incorporar la visualización (en una celda pre-ejecutada) de cada figura y $\\texttt{gif}$ solicitado."
      ]
    },
    {
      "cell_type": "code",
      "metadata": {
        "id": "-BWdSrwIlYuw"
      },
      "source": [
        "import os\n",
        "import time\n",
        "import glob\n",
        "import imageio\n",
        "import torch\n",
        "import torch.nn as nn\n",
        "import torch.optim as optim\n",
        "import torch.autograd as autograd\n",
        "import numpy as np\n",
        "import matplotlib.pyplot as plt\n",
        "from tqdm.notebook import tqdm\n",
        "from IPython.display import Image\n",
        "from torch.utils.data import DataLoader\n",
        "from torchvision.utils import save_image\n",
        "from torchvision import datasets, transforms"
      ],
      "execution_count": null,
      "outputs": []
    },
    {
      "cell_type": "code",
      "metadata": {
        "id": "Bn4dlh97m2Mv",
        "colab": {
          "base_uri": "https://localhost:8080/",
          "height": 281
        },
        "outputId": "96b4eb30-a665-415c-dcb7-fd4402d9b796"
      },
      "source": [
        "def spiral_dataset(n_samples, theta_min=0, theta_max=4*np.pi, a=0, b=1/(4*np.pi), c=1, noise=0.03):\n",
        "  '''Spital dataset generator'''\n",
        "  theta = np.linspace(theta_min, theta_max, int(n_samples / 2))\n",
        "  r = a + b * theta ** (1 / c)\n",
        "  xa = -r * np.cos(theta) + np.random.normal(size=int(n_samples / 2)) * noise\n",
        "  ya = r * np.sin(theta) + np.random.normal(size=int(n_samples / 2)) * noise\n",
        "  X = np.concatenate((xa, -xa))\n",
        "  Y = np.concatenate((ya, -ya))\n",
        "  return np.vstack((X, Y)).T\n",
        "\n",
        "def gaussians25_dataset(n_points, min_val=-5, max_val=5, noise=0.1):\n",
        "  '''25-Gaussians dataset generator'''\n",
        "  samples = []\n",
        "  x = np.linspace(min_val, max_val, 5)\n",
        "  y = np.linspace(min_val, max_val, 5)\n",
        "  for ux in x:\n",
        "    for uy in y:\n",
        "      s = np.random.multivariate_normal([ux, uy], np.eye(2) * noise, int(n_points / 25))\n",
        "      samples.append(s)\n",
        "  return np.concatenate(samples)\n",
        "\n",
        "def plot_and_save(dataset, generated_samples, folder_path, gaussian=True, cnt=1):\n",
        "  '''Hardcoded plot saver'''\n",
        "  plt.figure()\n",
        "  plt.plot(dataset[:,0], dataset[:,1], '.', label=r'p$_{data}$')\n",
        "  plt.plot(generated_samples[:,0], generated_samples[:,1], 'o', label=r'p$_{g}$', alpha=0.4)\n",
        "  plt.axis('equal')\n",
        "  # Gaussian-25 dataset\n",
        "  if gaussian:\n",
        "    plt.ylim(-7, 7)\n",
        "    plt.xlim(-7, 7)\n",
        "  # Spiral dataset\n",
        "  else:\n",
        "    plt.ylim(-2, 2)\n",
        "    plt.xlim(-2, 2)\n",
        "  plt.legend(loc=1)\n",
        "  plt.savefig('{}/img_{}.png'.format(folder_path, cnt), bbox_inches='tight')\n",
        "  plt.close()\n",
        "\n",
        "spiral_data = spiral_dataset(100000, theta_min=1.5*np.pi, theta_max=5.5*np.pi, a=0, b=1/(4*np.pi), noise=0.01)\n",
        "gaussians_data = gaussians25_dataset(100000, min_val=-5, max_val=5, noise=0.01)\n",
        "plt.figure(figsize=(10,4))\n",
        "plt.subplot(1,2,1)\n",
        "plt.plot(spiral_data[:,0], spiral_data[:,1], '.')\n",
        "plt.axis('equal')\n",
        "plt.title('Spiral Dataset')\n",
        "plt.subplot(1,2,2)\n",
        "plt.plot(gaussians_data[:,0], gaussians_data[:,1], '.')\n",
        "plt.title('25-Gaussians Dataset')\n",
        "plt.show()"
      ],
      "execution_count": null,
      "outputs": [
        {
          "output_type": "display_data",
          "data": {
            "image/png": "[encoded data removed]",
            "text/plain": [
              "<Figure size 720x288 with 2 Axes>"
            ]
          },
          "metadata": {
            "tags": [],
            "needs_background": "light"
          }
        }
      ]
    }
  ]
}